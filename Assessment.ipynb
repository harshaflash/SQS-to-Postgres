{
 "cells": [
  {
   "cell_type": "code",
   "execution_count": 2,
   "metadata": {},
   "outputs": [],
   "source": [
    "import os\n",
    "import time\n",
    "import psycopg2\n",
    "AWS_REGION = 'us-east-1'\n",
    "AWS_PROFILE = 'localstack'\n",
    "ENDPOINT_URL = \"http://localhost:4566\"\n"
   ]
  },
  {
   "cell_type": "code",
   "execution_count": 3,
   "metadata": {},
   "outputs": [],
   "source": [
    "import boto3\n",
    "boto3.setup_default_session(profile_name=AWS_PROFILE)\n",
    "sqs = boto3.client('sqs',region_name='us-east-1',endpoint_url = ENDPOINT_URL)\n",
    "queue_url= 'http://localhost:4566/000000000000/login-queue'"
   ]
  },
  {
   "cell_type": "code",
   "execution_count": 4,
   "metadata": {},
   "outputs": [],
   "source": [
    "conn = psycopg2.connect(\n",
    "    host=\"localhost\",\n",
    "    database=\"postgres\",\n",
    "    user=\"postgres\",\n",
    "    password=\"postgres\")"
   ]
  },
  {
   "cell_type": "code",
   "execution_count": 5,
   "metadata": {},
   "outputs": [
    {
     "name": "stdout",
     "output_type": "stream",
     "text": [
      "PostgreSQL database version:\n",
      "('PostgreSQL 10.21 (Debian 10.21-1.pgdg90+1) on x86_64-pc-linux-gnu, compiled by gcc (Debian 6.3.0-18+deb9u1) 6.3.0 20170516, 64-bit',)\n"
     ]
    }
   ],
   "source": [
    "cur = conn.cursor()\n",
    "print('PostgreSQL database version:')\n",
    "cur.execute('SELECT version()')\n",
    "db_version = cur.fetchone()\n",
    "print(db_version)\n",
    "alter_sql = \"\"\"Alter table user_logins alter column app_version type varchar(32)\"\"\"\n",
    "cur.execute(alter_sql)\n",
    "conn.commit()\n"
   ]
  },
  {
   "cell_type": "code",
   "execution_count": 6,
   "metadata": {},
   "outputs": [
    {
     "name": "stdout",
     "output_type": "stream",
     "text": [
      "[('user_id', 'character varying', 128), ('device_type', 'character varying', 32), ('masked_ip', 'character varying', 256), ('masked_device_id', 'character varying', 256), ('locale', 'character varying', 32), ('app_version', 'character varying', 32), ('create_date', 'date', None)]\n"
     ]
    }
   ],
   "source": [
    "cur.execute(\"\"\"\n",
    "    SELECT column_name, data_type, character_maximum_length\n",
    "    FROM information_schema.columns\n",
    "    WHERE table_name = 'user_logins'\n",
    "\"\"\")\n",
    "print(cur.fetchall())"
   ]
  },
  {
   "cell_type": "code",
   "execution_count": 7,
   "metadata": {},
   "outputs": [],
   "source": [
    "import json\n",
    "from datetime import datetime\n",
    "import hashlib\n",
    "\n",
    "def mask_fields(data, fields_to_mask):\n",
    "    for field in fields_to_mask:\n",
    "        if field in data:\n",
    "            # Generate a hash of the original value\n",
    "            hashed_value = hashlib.sha256(data[field].encode()).hexdigest()\n",
    "            # Keep the first 8 characters of the hash\n",
    "            data[field] = hashed_value[:8]\n",
    "    return data\n",
    "\n",
    "\n",
    "c=2\n",
    "while c>1:\n",
    "    response = sqs.receive_message(QueueUrl=queue_url,AttributeNames=['SentTimestamp'],\n",
    "    MaxNumberOfMessages=1,\n",
    "    VisibilityTimeout=0,\n",
    "    WaitTimeSeconds=10\n",
    "    )\n",
    "    if 'Messages' in response:\n",
    "        messages = response['Messages']\n",
    "\n",
    "        for message in messages:\n",
    "            receiptHandle = message['ReceiptHandle']\n",
    "            body = json.loads(message['Body'])\n",
    "            print(receiptHandle)\n",
    "            print(body)\n",
    "            print(mask_fields(body,['device_id', 'ip']))\n",
    "            if 'user_id' in body.keys():\n",
    "                value = (body['user_id'],body['device_type'],body['ip'],body['device_id'],body['locale'],body['app_version'],str(datetime.now()))\n",
    "                sql = f\"INSERT INTO user_logins (user_id,device_type,masked_ip,masked_device_id,locale,app_version,create_date) VALUES (%s,%s,%s,%s,%s,%s,%s)\"\n",
    "                print(sql,value)\n",
    "                try:\n",
    "                    cur.execute(sql,value)\n",
    "                    conn.commit()\n",
    "                    sqs.delete_message(QueueUrl=queue_url,ReceiptHandle=receiptHandle)\n",
    "                except(Exception, psycopg2.DatabaseError) as error:\n",
    "                    print(error)\n",
    "            else:\n",
    "                print('Invalid data')\n",
    "                sqs.delete_message(QueueUrl=queue_url,ReceiptHandle=receiptHandle)\n",
    "    else:\n",
    "        c-=1"
   ]
  },
  {
   "cell_type": "code",
   "execution_count": 8,
   "metadata": {},
   "outputs": [
    {
     "name": "stdout",
     "output_type": "stream",
     "text": [
      "(99, 7)\n",
      "                                user_id device_type masked_ip  \\\n",
      "0  424cdd21-063a-43a7-b91b-7ca1a833afae     android  a6d0e2f2   \n",
      "1  c0173198-76a8-4e67-bfc2-74eaa3bbff57         ios  7b03f7d7   \n",
      "2  66e0635b-ce36-4ec7-aa9e-8a8fca9b83d4         ios  fa7fca28   \n",
      "3  181452ad-20c3-4e93-86ad-1934c9248903     android  b21d1c92   \n",
      "4  60b9441c-e39d-406f-bba0-c7ff0e0ee07f     android  587f5a11   \n",
      "\n",
      "  masked_device_id locale app_version create_date  \n",
      "0         4f00c1a8     RU       2.3.0  2023-01-28  \n",
      "1         a857e702     PH       0.2.6  2023-01-28  \n",
      "2         e84fb3e1   None       2.2.1  2023-01-28  \n",
      "3         94b571f6     ID        0.96  2023-01-28  \n",
      "4         3102ec6d     FR       0.4.6  2023-01-28  \n"
     ]
    }
   ],
   "source": [
    "import pandas as pd\n",
    "cur.execute(\"select * from user_logins\")\n",
    "data = cur.fetchall()\n",
    "df = pd.DataFrame(data, columns =['user_id','device_type','masked_ip','masked_device_id','locale','app_version','create_date'])\n",
    "print(df.shape)\n",
    "print(df.head())"
   ]
  },
  {
   "cell_type": "code",
   "execution_count": null,
   "metadata": {},
   "outputs": [],
   "source": []
  }
 ],
 "metadata": {
  "kernelspec": {
   "display_name": "Python 3",
   "language": "python",
   "name": "python3"
  },
  "language_info": {
   "codemirror_mode": {
    "name": "ipython",
    "version": 3
   },
   "file_extension": ".py",
   "mimetype": "text/x-python",
   "name": "python",
   "nbconvert_exporter": "python",
   "pygments_lexer": "ipython3",
   "version": "3.9.7"
  },
  "orig_nbformat": 4,
  "vscode": {
   "interpreter": {
    "hash": "de77addc320f40e9699aeb121955554960c0dfc06e392c541a926578472e326a"
   }
  }
 },
 "nbformat": 4,
 "nbformat_minor": 2
}
